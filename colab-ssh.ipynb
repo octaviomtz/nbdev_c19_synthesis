{
 "cells": [
  {
   "cell_type": "code",
   "execution_count": null,
   "metadata": {},
   "outputs": [
    {
     "name": "stdout",
     "output_type": "stream",
     "text": [
      "Collecting colab_ssh\n",
      "  Downloading https://files.pythonhosted.org/packages/74/c0/a2d6cc985d9496968b80203105f20c8d3845effa45dd4cb46c22879f1e44/colab_ssh-0.3.15-py3-none-any.whl\n",
      "Installing collected packages: colab-ssh\n",
      "Successfully installed colab-ssh-0.3.15\n"
     ]
    }
   ],
   "source": [
    "!pip install colab_ssh --upgrade"
   ]
  },
  {
   "cell_type": "code",
   "execution_count": null,
   "metadata": {},
   "outputs": [
    {
     "name": "stdout",
     "output_type": "stream",
     "text": [
      "Mounted at /content/drive\n"
     ]
    }
   ],
   "source": [
    "from google.colab import drive\n",
    "drive.mount('/content/drive')"
   ]
  },
  {
   "cell_type": "code",
   "execution_count": null,
   "metadata": {},
   "outputs": [
    {
     "data": {
      "text/html": [
       "<style>\n",
       "*{\n",
       "\toutline:none;\n",
       "}\n",
       "code{\n",
       "\tdisplay:inline-block;\n",
       "\tpadding:5px 10px;\n",
       "\tbackground: #444;\n",
       "\tborder-radius: 4px;\n",
       "\twhite-space: pre-wrap;\n",
       "\tposition:relative;\n",
       "\tcolor:white;\n",
       "}\n",
       ".copy-code-button{\n",
       "\tfloat:right;\n",
       "\tbackground:#333;\n",
       "\tcolor:white;\n",
       "\tborder: none;\n",
       "\tmargin: 0 0 0 10px;\n",
       "\tcursor: pointer;\n",
       "}\n",
       "p, li{\n",
       "\tmax-width:700px;\n",
       "}\n",
       ".choices{\n",
       "\tdisplay:flex;\n",
       "\tflex: 1 0 auto;\n",
       "}\n",
       ".choice-section{\n",
       "\tborder:solid 1px #555;\n",
       "\tborder-radius: 4px;\n",
       "\tmin-width:300px;\n",
       "\tmargin: 10px 15px 0 0;\n",
       "\tpadding: 0 15px 15px 15px ;\n",
       "}\n",
       ".button{\n",
       "\tpadding: 10px 15px;\n",
       "\tbackground:#333;\n",
       "\tborder-radius: 4px;\n",
       "\tborder:solid 1px #555;\n",
       "\tcolor:white;\n",
       "\tfont-weight:bold;\n",
       "\tcursor:pointer;\n",
       "}\n",
       ".pill{\n",
       "\tpadding:2px 4px;\n",
       "\tborder-radius: 100px;\n",
       "\tbackground-color:#e65858;\n",
       "\tfont-size:12px;\n",
       "\tfont-weight:bold;\n",
       "\tmargin: 0 15px;\n",
       "\tcolor:white;\n",
       "}\n",
       "</style>\n",
       "<details class=\"choice-section\">\n",
       "\t<summary style=\"cursor:pointer\">\n",
       "\t\t<h3 style=\"display:inline-block;margin-top:15px\">⚙️ Client machine configuration<span class=\"pill\">Required</span></h3>\n",
       "\t</summary>\n",
       "\t<p>Don't worry, you only have to do this <b>once per client machine</b>.</p>\n",
       "\t<ol>\n",
       "\t\t<li>Download <a href=\"https://developers.cloudflare.com/argo-tunnel/getting-started/installation\">Cloudflared (Argo Tunnel)</a>, then copy the absolute path to the cloudflare binary</li>\n",
       "\t\t<li>Now, you have to append the following to your SSH config file (usually under ~/.ssh/config):</li>\n",
       "\t</ol>\n",
       "\t<code>Host *.trycloudflare.com\n",
       "\tHostName %h\n",
       "\tUser root\n",
       "\tPort 22\n",
       "\tProxyCommand &ltPUT_THE_ABSOLUTE_CLOUDFLARE_PATH_HERE&gt access ssh --hostname %h\n",
       "\t</code>\n",
       "</details>\n",
       "<div class=\"choices\">\n",
       "\t<div class=\"choice-section\">\n",
       "\t\t<h4>SSH Terminal</h4>\n",
       "\t\t<p>To connect using your terminal, type this command:</p>\n",
       "\t\t<code>ssh bulk-pottery-offerings-streams.trycloudflare.com</code>\n",
       "\t</div>\n",
       "\t<div class=\"choice-section\">\n",
       "\t\t<h4>VSCode Remote SSH</h4>\n",
       "\t\t<p>You can also connect with VSCode Remote SSH (Ctrl+Shift+P and type \"Connect to Host...\"). Then, paste the following hostname in the opened command palette:</p>\n",
       "\t\t<code>bulk-pottery-offerings-streams.trycloudflare.com</code>\n",
       "\t</div>\n",
       "</div>\n",
       "\n",
       "<script>\n",
       "// Copy any string\n",
       "function fallbackCopyTextToClipboard(text) {\n",
       "  var textArea = document.createElement(\"textarea\");\n",
       "  textArea.value = text;\n",
       "  \n",
       "  // Avoid scrolling to bottom\n",
       "  textArea.style.top = \"0\";\n",
       "  textArea.style.left = \"0\";\n",
       "  textArea.style.position = \"fixed\";\n",
       "\n",
       "  document.body.appendChild(textArea);\n",
       "  textArea.focus();\n",
       "  textArea.select();\n",
       "\n",
       "  try {\n",
       "    var successful = document.execCommand('copy');\n",
       "    var msg = successful ? 'successful' : 'unsuccessful';\n",
       "    console.log('Fallback: Copying text command was ' + msg);\n",
       "  } catch (err) {\n",
       "    console.error('Fallback: Oops, unable to copy', err);\n",
       "  }\n",
       "\n",
       "  document.body.removeChild(textArea);\n",
       "}\n",
       "\n",
       "// Show the copy button with every code tag\n",
       "document.querySelectorAll('code').forEach(function (codeBlock) {\n",
       "\tconst codeToCopy= codeBlock.innerText;\n",
       "\tvar pre = document.createElement('pre');\n",
       "\tpre.innerText = codeToCopy;\n",
       "    var button = document.createElement('button');\n",
       "    button.className = 'copy-code-button';\n",
       "    button.type = 'button';\n",
       "    button.innerText = 'Copy';\n",
       "\tbutton.onclick = function(){\n",
       "\t\tfallbackCopyTextToClipboard(codeToCopy);\n",
       "\t\tbutton.innerText = 'Copied'\n",
       "\t\tsetTimeout(()=>{\n",
       "\t\t\tbutton.innerText = 'Copy'\n",
       "\t\t},2000)\n",
       "\t}\n",
       "\tcodeBlock.children = pre;\n",
       "\tcodeBlock.prepend(button)\n",
       "});\n",
       "</script>"
      ],
      "text/plain": [
       "<IPython.core.display.HTML object>"
      ]
     },
     "metadata": {},
     "output_type": "display_data"
    }
   ],
   "source": [
    "from colab_ssh import launch_ssh_cloudflared, init_git_cloudflared\n",
    "launch_ssh_cloudflared(password=\"octavio\")"
   ]
  },
  {
   "cell_type": "code",
   "execution_count": null,
   "metadata": {},
   "outputs": [],
   "source": [
    "while True: pass"
   ]
  }
 ],
 "metadata": {
  "kernelspec": {
   "display_name": "Python 3",
   "name": "python3"
  }
 },
 "nbformat": 4,
 "nbformat_minor": 0
}
